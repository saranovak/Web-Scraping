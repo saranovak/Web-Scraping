{
 "cells": [
  {
   "attachments": {},
   "cell_type": "markdown",
   "metadata": {},
   "source": [
    "# Web Scraping\n"
   ]
  },
  {
   "attachments": {},
   "cell_type": "markdown",
   "metadata": {},
   "source": [
    "## Load required libraries"
   ]
  },
  {
   "cell_type": "code",
   "execution_count": 104,
   "metadata": {},
   "outputs": [],
   "source": [
    "from bs4 import BeautifulSoup\n",
    "import requests\n",
    "import pandas as pd \n",
    "import re"
   ]
  },
  {
   "attachments": {},
   "cell_type": "markdown",
   "metadata": {},
   "source": [
    "## HTTP Request"
   ]
  },
  {
   "cell_type": "code",
   "execution_count": 139,
   "metadata": {},
   "outputs": [],
   "source": [
    "def getListOfRealEstateByPage(page):\n",
    "    website = 'https://www.dibeo.at/obj/kauf/v?page='+str(page)+'&sort=stateFrom,desc&locationSuggestions=9:SUB_COUNTRY&size=10'\n",
    "    headers = ({'User-Agent': 'Mozilla/5.0 (Windows NT 10.0; Win64; x64) AppleWebKit/537.36 (KHTML, like Gecko) Chrome/104.0.5112.81 Safari/537.36 Edg/104.0.1293.54'})\n",
    "    return requests.get(website, headers=headers)\n"
   ]
  },
  {
   "cell_type": "code",
   "execution_count": 142,
   "metadata": {},
   "outputs": [],
   "source": [
    "# Exctract only the number\n",
    "def getNumber(str):\n",
    "    return float(''.join([i for i in str if i.isdigit()]))"
   ]
  },
  {
   "cell_type": "code",
   "execution_count": 150,
   "metadata": {},
   "outputs": [],
   "source": [
    "def comaReplace(str):\n",
    "    return (str.replace(\",\",\"\").strip())\n"
   ]
  },
  {
   "cell_type": "code",
   "execution_count": 149,
   "metadata": {},
   "outputs": [],
   "source": [
    "def getFirstNumber(str):\n",
    "    repl_str = re.compile('(\\d+[\\,\\d+])')\n",
    "    match = re.search(repl_str, str)\n",
    "    return float(match.group().replace(\",\",\".\"))\n"
   ]
  },
  {
   "cell_type": "code",
   "execution_count": 148,
   "metadata": {},
   "outputs": [],
   "source": [
    "def getNumberStr(str):\n",
    "    repl_str = re.compile('(\\d Zimmer)')\n",
    "    match = re.search(repl_str, str)\n",
    "    return float(match.group().replace(\" Zimmer\",\"\"))\n",
    "\n"
   ]
  },
  {
   "attachments": {},
   "cell_type": "markdown",
   "metadata": {},
   "source": [
    "## Soup Object"
   ]
  },
  {
   "cell_type": "code",
   "execution_count": null,
   "metadata": {},
   "outputs": [],
   "source": [
    "soup =BeautifulSoup(response.content, 'html.parser')\n",
    "baseUrl=\"https://www.dibeo.at\"\n",
    "class RealEstate:    \n",
    "    def __init__(self):\n",
    "        self._terasseBalcony=\"\"\n",
    "        self._type=\"\"\n",
    "        self._name=\"\"\n",
    "        self._location=\"\"\n",
    "        self._price=\"\"\n",
    "        self._contractType=\"\"\n",
    "        self._livingarea=\"\"\n",
    "        self._rooms=\"\"\n",
    "        self._buildingtype=\"\"\n",
    "        self._objectType=\"\"\n",
    "        self._furnishing=\"\"\n",
    "    def set_type(self, value):\n",
    "        self._type = value\n",
    "    def set_name(self, value):\n",
    "        self._name = value\n",
    "    def set_location(self, value):\n",
    "        self._location = value         \n",
    "    def set_price(self, value):\n",
    "        self._price = value\n",
    "    #def set_provision(self, value):\n",
    "        #self._provision = value\n",
    "    def set_contractType(self, value):\n",
    "        self._contractType = value\n",
    "    def set_livingarea(self, value):\n",
    "        self._livingarea = value\n",
    "    def set_rooms(self, value):\n",
    "        self._rooms = value\n",
    "    def set_terasseBalcony(self, value):\n",
    "        self._terasseBalcony = value\n",
    "    def set_buildingtype(self, value):\n",
    "        self._buildingtype = value\n",
    "    def set_objectType(self, value):\n",
    "        self._objectType = value\n",
    "    def set_furnishing(self, value):\n",
    "        self._furnishing = value\n",
    "\n",
    "    def as_dict(self):\n",
    "        return {'type': self._type, 'name': self._name, 'location': self._location, \n",
    "        'price': self._price, 'contractType': self._contractType, 'livingarea': self._livingarea, \n",
    "        'rooms': self._rooms, 'terasseBalcony': self._terasseBalcony, 'buildingtype': self._buildingtype, \n",
    "        'objectType': self._objectType, 'furnishing': self._furnishing}\n",
    "    \n",
    "# function for getering product data \n",
    "def getProductData(link):\n",
    "    realEstate=RealEstate()    \n",
    "    page = requests.get(baseUrl+link)\n",
    "    soup = BeautifulSoup(page.content, \"html.parser\")\n",
    "    productName = soup.find(\"h1\")\n",
    "    productLocation = soup.find(\"h2\")\n",
    "    realEstate.set_type(\"Apartment\")\n",
    "    realEstate.set_name(productName.getText())\n",
    "    realEstate.set_location(productLocation.getText())\n",
    "    productAttributes = soup.find_all(\"div\", {\"class\": \"attribute\"})\n",
    "\n",
    "    for productAttribute in productAttributes:\n",
    "        productAttributeTitle=productAttribute.find(\"div\", {\"class\": \"attribute-title\"}).getText()\n",
    "        productAttributeValue=productAttribute.find(\"div\", {\"class\": \"attribute-value\"}).getText()   \n",
    "        if(\"Kosten\" in productAttributeTitle):\n",
    "            realEstate.set_price(getNumber(productAttributeValue))\n",
    "        elif (\"Vertragsart\" in productAttributeTitle):\n",
    "            realEstate.set_contractType(comaReplace(productAttributeValue))\n",
    "        elif (\"Wohnfläche\" in productAttributeTitle):\n",
    "            realEstate.set_livingarea(getFirstNumber(productAttributeValue))\n",
    "            realEstate.set_rooms(getNumberStr(productAttributeValue))\n",
    "        elif (\"Freifläche\" in productAttributeTitle):\n",
    "            realEstate.set_terasseBalcony(comaReplace(productAttributeValue))\n",
    "        elif (\"Bauart\" in productAttributeTitle):\n",
    "            realEstate.set_buildingtype(comaReplace(productAttributeValue))\n",
    "        print(productAttributeTitle+\"=\"+productAttributeValue)\n",
    "    return realEstate\n",
    "\n",
    "products=[]\n",
    "for page in range(417):\n",
    "    response=getListOfRealEstateByPage(page)\n",
    "    # harsing product links \n",
    "    subLinks = soup.find_all(\"a\", {\"class\": \"product\"})\n",
    "   \n",
    "    for link in subLinks:    \n",
    "        product=getProductData(link['href'])\n",
    "        print(product)\n",
    "        products.append(product)\n",
    "\n",
    "df = pd.DataFrame([x.as_dict() for x in products])\n",
    "df.to_csv('realestate.csv', index=False)\n",
    "\n"
   ]
  }
 ],
 "metadata": {
  "kernelspec": {
   "display_name": "Python 3",
   "language": "python",
   "name": "python3"
  },
  "language_info": {
   "codemirror_mode": {
    "name": "ipython",
    "version": 3
   },
   "file_extension": ".py",
   "mimetype": "text/x-python",
   "name": "python",
   "nbconvert_exporter": "python",
   "pygments_lexer": "ipython3",
   "version": "3.10.11"
  },
  "orig_nbformat": 4,
  "vscode": {
   "interpreter": {
    "hash": "c02389f9a40939eb5ecdd67775ee985d4c507ec8d08b0eb3076d0b81239a73d5"
   }
  }
 },
 "nbformat": 4,
 "nbformat_minor": 2
}
